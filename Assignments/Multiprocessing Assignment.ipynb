Q1. What is multiprocessing in python? Why is it useful?
---------------------------------------------------------------
A-
Multiprocessing in Python is a module within the Python standard library that allows you to create and manage multiple processes, which are independent units of execution, in a Python program. 
These processes run concurrently, making use of multiple CPU cores or processors. 
The multiprocessing module provides a way to take advantage of parallelism, allowing you to perform tasks simultaneously, which can significantly improve the performance of certain types of programs.

Why usefull:
#Improved Performance: Multiprocessing can help you leverage the full potential of multi-core CPUs, speeding up CPU-bound tasks by executing them in parallel.
#Concurrency: It allows you to perform multiple tasks concurrently, making your program more responsive and efficient,
#Isolation: Each process has its own memory space, which helps in isolating data and avoiding common issues related to shared memory in multithreaded programs.
#Parallelism: It's a way to perform true parallel execution, unlike multithreading, which can be limited by the Global Interpreter Lock (GIL) in CPython
---------------------------------------------------------------------------------------
Q2. What are the differences between multiprocessing and multithreading?
----------------------------------------------------------------------------------------
A-
#Multiprocessing:

In Multiprocessing, Many processes are executed simultaneously.
Multiprocessing are classified into Symmetric and Asymmetric.
In Multiprocessing, Process creation is a time-consuming process.
In Multiprocessing, every process owned a separate address space.

#Multithreading:

While in multithreading, many threads of a process are executed simultaneously.
While Multithreading is not classified in any categories.
While in Multithreading, process creation is according to economical.
While in Multithreading, a common address space is shared by all the threads.
--------------------------------------------------------------------------------------
Q3. Write a python code to create a process using the multiprocessing module.
--------------------------------------------------------------------------------------
import multiprocessing

# Function to calculate the square of a number
def square(number):
    result = number * number
    print(f"The square of {number} is {result}")

if __name__ == "__main__":
    # List of numbers to calculate squares for
    numbers = [1, 2, 3, 4, 5]

    # Create a pool of processes
    pool = multiprocessing.Pool()

    # Use the pool to map the 'square' function to the list of numbers
    pool.map(square, numbers)

    # Close the pool to release resources
    pool.close()
    pool.join()

o/p:  The square of 2 is 4The square of 4 is 16The square of 5 is 25The square of 3 is 9The square of 1 is 1
---------------------------------------------------------------------
Q4. What is a multiprocessing pool in python? Why is it used?
---------------------------------------------------------------------
A-
In Python, a "pool" typically refers to a pool of resources, often associated with the multiprocessing module, which is used to manage and distribute tasks across a group of worker processes. 
Pools are a common pattern in parallel and concurrent programming.
The multiprocessing module in Python provides a Pool class that allows you to create a pool of worker processes, making it easier to parallelize tasks. 
The Pool class provides various methods for distributing work among the worker processes. 

Code:
import multiprocessing

def square(x):
    return x * x

if __name__ == "__main__":
    inputs = [1, 2, 3, 4, 5]
    
    with multiprocessing.Pool(processes=4) as pool:
        results = pool.map(square, inputs)
    
    print(results)

o/p:  [1, 4, 9, 16, 25]
-------------------------------------------------------------------------------------------------------
Q5. How can we create a pool of worker processes in python using the multiprocessing module?
--------------------------------------------------------------------------------------------------------
A-
#step-by-step guide on how to create a pool of worker processes:

#Import the multiprocessing module:
import multiprocessing

#Determine the number of worker processes you want in your pool. Typically, you would set the number of processes equal to the number of available CPU cores for optimal parallelism. You can use the multiprocessing.cpu_count() function to determine the number of CPU cores on your system:
num_processes = multiprocessing.cpu_count()

#Create a Pool object with the desired number of worker processes:
pool = multiprocessing.Pool(processes=num_processes)

#Now, your pool object is ready to be used for parallelizing tasks. You can distribute work to the worker processes using methods like map, map_async, apply, apply_async, etc., depending on your specific use case.
results = pool.map(some_function, list_of_inputs)

#After distributing the work to the worker processes, don't forget to close the pool and wait for all processes to complete. This is typically done with the close() and join() methods:
pool.close()
pool.join()

#Finally, you can terminate the pool when you're done to release the associated resources:
pool.terminate()

Code:
import multiprocessing

# A sample function to be executed in parallel
def square(x):
    return x * x

if __name__ == "__main__":
    inputs = [1, 2, 3, 4, 5]
    
    # Create a pool with the number of processes equal to CPU cores
    with multiprocessing.Pool(processes=multiprocessing.cpu_count()) as pool:
        results = pool.map(square, inputs)
   
    print(results)

o/p:  [1, 4, 9, 16, 25]
------------------------------------------------------------------------------------------------------------------------------------------------------
Q6. Write a python program to create 4 processes, each process should print a different number using the multiprocessing module in python.
------------------------------------------------------------------------------------------------------------------------------------------------------
A-
import multiprocessing

def square(x):
    return x * x

if __name__ == "__main__":
    inputs = [1, 2, 3, 4, 5]
    
    with multiprocessing.Pool(processes=4) as pool:
        results = pool.map(square, inputs)
    
    print(results)

o/p:  [1, 4, 9, 16, 25]