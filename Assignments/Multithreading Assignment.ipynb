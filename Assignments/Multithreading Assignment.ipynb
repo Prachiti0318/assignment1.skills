Q1)What is multithreading in python? Why is it used? Name the module used to handle threads in python
-------------------------------------------------------------------------------------------------------------------
A-
Multithreading in Python refers to the capability of a program to run multiple threads concurrently, allowing it to perform multiple tasks in parallel.
 Each thread is a separate flow of execution within a single process, sharing the same memory space. 

Why use?
#Improved Performance: By dividing a program into multiple threads, you can potentially utilize multiple CPU cores and improve the performance of CPU-bound tasks. This can make your program faster, particularly for tasks that can be parallelized.

#Concurrency: Multithreading is useful for managing concurrent I/O-bound operations. For example, when your program needs to handle multiple network connections or disk operations, using threads can help manage these tasks concurrently without blocking the main program.

#Responsive User Interfaces: Multithreading can be used in graphical user interfaces (GUIs) to keep the interface responsive while performing time-consuming tasks in the background.

The primary module used to handle threads in Python is the 'threading' module.
Code:
import threading
def test(id):
    print('my program id is %d'% id)
test(67)

o/p:  my program id is 67
----------------------------------------------------------------------------------
Q2. Why threading used? Write the use of the following functions:
I. activecount()
2. currentThread()
3. enumerate()
----------------------------------------------------------------------------------
A-
Threading is used in Python to achieve concurrency, which means that a program can execute multiple threads concurrently, allowing it to perform multiple tasks in parallel.
I. activecount():
 This function is used to obtain the number of Thread objects currently alive. It returns the count of Thread objects that have been created and are currently running, including the main thread. This can be useful for monitoring and managing the number of active threads in your program.
Code:
import threading

def thread_function():
    pass

thread1 = threading.Thread(target=thread_function)
thread2 = threading.Thread(target=thread_function)

thread1.start()
thread2.start()

print(f"Number of active threads: {threading.activeCount()}")

o/p:  Number of active threads: 8

2. currentThread():
This function returns the currently executing Thread object. It can be useful to identify the thread that is currently running and to perform thread-specific operations or access thread attributes.
Code:
import threading

def thread_function():
    current_thread = threading.current_thread()
    print(f"Current Thread Name: {current_thread.name}")

thread1 = threading.Thread(target=thread_function)
thread2 = threading.Thread(target=thread_function)

thread1.start()
thread2.start()

o/p:  Current Thread Name: Thread-7 (thread_function)
Current Thread Name: Thread-8 (thread_function)

3. enumerate():
The enumerate() function returns a list of all Thread objects currently alive. This can be helpful when you need to access or manage the state of multiple threads in your program.
Code:
import threading

def thread_function():
    pass

thread1 = threading.Thread(target=thread_function)
thread2 = threading.Thread(target=thread_function)

thread1.start()
thread2.start()

thread_list = threading.enumerate()
for thread in thread_list:
    print(f"Thread Name: {thread.name}")

o/p:  Thread Name: MainThread
Thread Name: IOPub
Thread Name: Heartbeat
Thread Name: Thread-3 (_watch_pipe_fd)
Thread Name: Thread-4 (_watch_pipe_fd)
Thread Name: Control
Thread Name: IPythonHistorySavingThread
Thread Name: Thread-2
--------------------------------------------------------------
Q3. Explain the following functions:
1. runo
2. start()
3. join()
4. isAIive()
---------------------------------------------------------------
A-
#Run:

The run() method is a fundamental method in Python's threading module, and it's not usually called directly by the programmer.
 Instead, you typically override the run() method in a custom thread class that you create by subclassing threading.Thread. 
The code you want to execute in a separate thread is placed inside the run() method. 
When you start the thread using the start() method, it internally calls the run() 

Code:
import threading

class MyThread(threading.Thread):
    def run(self):
        for i in range(5):
            print(f"Thread {self.name} - Count: {i}")

thread1 = MyThread()
thread1.start()

o/p:   Thread Thread-5 - Count: 0
Thread Thread-5 - Count: 1
Thread Thread-5 - Count: 2
Thread Thread-5 - Count: 3
Thread Thread-5 - Count: 4

#Start:

The start() method is used to initiate the execution of a thread. 
When you call start(), the thread begins running, and it internally calls the run() method that you've overridden in your custom thread class. 
Do not call the run() method directly; always use start() to launch a thread.

Code:

import threading

def my_function():
    print("Thread function")

thread1 = threading.Thread(target=my_function)
thread1.start()

o/p:   Thread function

#Join:

import threading

def my_function():
    print("Thread function")

thread1 = threading.Thread(target=my_function)
thread1.start()
thread1.join()  # Wait for thread1 to finish before continuing
print("Main program")

o/p:   Thread function
Main program

#is alive:
The isAlive() method is used to check if a thread is currently executing (alive) or has already finished its execution.
 It returns True if the thread is running, and False if it has completed its execution.

Code:
import threading
import time

def my_function():
    print("Thread is running")
    time.sleep(2)
    print("Thread has finished")

# Create a thread
thread1 = threading.Thread(target=my_function)

# Start the thread
thread1.start()

# Check if the thread is alive
while thread1.isAlive():
    print("Thread is still running...")
    time.sleep(1)

print("Thread is no longer alive")

o/p:Thread is running
Thread has finished
----------------------------------------------------------------------------------------------------------
Q4. Write a python to create two threads. Thread one must print the list of squares and thread
two must print the list of cubes.
----------------------------------------------------------------------------------------------------------
A-

import threading

def print_squares():
    for i in range(1, 6):
        print(f"Square of {i}: {i * i}")

def print_cubes():
    for i in range(1, 6):
        print(f"Cube of {i}: {i * i * i}")

# Create two thread objects, one for each function
thread1 = threading.Thread(target=print_squares)
thread2 = threading.Thread(target=print_cubes)

# Start both threads
thread1.start()
thread2.start()

# Wait for both threads to finish
thread1.join()
thread2.join()

print("Both threads have finished.")

o/p:  Square of 1: 1
Square of 2: 4
Square of 3: 9
Square of 4: 16
Square of 5: 25
Cube of 1: 1
Cube of 2: 8
Cube of 3: 27
Cube of 4: 64
Cube of 5: 125
Both threads have finished.
---------------------------------------------------------------------
Q5. State advantages and disadvantages of multithreading.
---------------------------------------------------------------------
A-
#Advantages of Multithreading:
Improved Performance: Multithreading can lead to improved performance by utilizing multiple CPU cores or processors.
Concurrency: Multithreading enables concurrent execution of multiple tasks, which is beneficial for managing I/O-bound operations.
Responsiveness: In applications with a graphical user interface (GUI), multithreading can keep the interface responsive while background tasks run in separate threads.
Modularity: Multithreading promotes modularity in code. Different threads can be designed to handle specific tasks, making the code more organized and easier to maintain.
Resource Sharing: Threads share the same memory space, making it easier to share data between threads. 

#Disadvantages of Multithreading:

Complexity: Multithreaded programs can be more complex and harder to design, debug, and maintain. 
Race Conditions: When multiple threads access shared resources concurrently, race conditions can occur.
Deadlocks: Deadlocks can occur when multiple threads are waiting for each other to release resources they need.
Overhead: Multithreading introduces overhead in terms of thread creation, management, and synchronization.
Global Interpreter Lock (GIL) (specific to Python): In Python, the Global Interpreter Lock (GIL) restricts the execution of multiple threads in CPython (the default Python interpreter). 
-----------------------------------------------------
Q6. Explain deadlocks and race conditions.
-----------------------------------------------------
A:
Deadlocks:

Deadlocks occur when two or more threads or processes are unable to proceed because each is waiting for the other(s) to release a resource.
 In other words, it's a circular wait situation where each entity is holding a resource and is waiting for another resource held by another entity, creating a standstill. A deadlock typically involves the following conditions:

Mutual Exclusion: Resources can only be used by one thread or process at a time.
Hold and Wait: A thread holds one or more resources and waits for additional resources.
No Preemption: Resources cannot be forcefully taken away from a thread. They can only be released voluntarily.
Circular Wait: A circular chain of threads exists, where each thread is waiting for a resource held by the next thread in the chain.

Race Conditions:

Race conditions occur when two or more threads or processes access shared data concurrently, and the final outcome depends on the order in which the threads are scheduled to run. 
They can manifest in various ways, such as:

Data Corruption: If multiple threads try to write to the same data simultaneously, the data can become corrupted because the writes can interfere with each other.
Inconsistent State: When a thread reads data while another thread is modifying it, the read thread may see an inconsistent or partially updated state.
Lost Updates: If multiple threads read, modify, and write data concurrently, some updates might be lost if they overwrite each other.
Race conditions are often avoided through synchronization mechanisms, such as locks (mutexes), semaphores, and other threading constructs.

Code:
import threading

counter = 0

def increment_counter():
    global counter
    for _ in range(1000000):
        counter += 1

# Create two threads that increment the counter
thread1 = threading.Thread(target=increment_counter)
thread2 = threading.Thread(target=increment_counter)

thread1.start()
thread2.start()

thread1.join()
thread2.join()

print("Counter:", counter)

o/p:  Counter: 2000000
