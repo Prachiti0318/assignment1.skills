Q1. Explain why we have to use the Exception class while creating a Custom Exception.
Note: Here Exception class refers to the base class for all the exceptions.
-----------------------------------------------------------------------------------------------

A-
In Python, exceptions are used to handle errors and exceptional situations that may occur during the execution of a program. 
While Python provides a wide range of built-in exception classes to handle common error scenarios, there are situations where you may need to create your own custom exceptions to better suit your application's needs. 
When creating a custom exception in Python, it is advisable to inherit from the base Exception class or one of its subclasses.
By inheriting from the Exception class, you adhere to the established convention in Python for creating custom exceptions. This makes your code more readable and predictable for other developers who may work on your code.

Code:
class MyCustomException(Exception):
    def __init__(self, message):
        super().__init__(message)

# Raise your custom exception
try:
    raise MyCustomException("This is a custom exception")
except MyCustomException as e:
    print(f"Caught a custom exception: {e}")

o/p: Caught a custom exception: This is a custom exception
​------------------------------------------------------------------------------
Q2. Write a python program to print Python Exception Hierarchy.
-------------------------------------------------------------------------------
A-
import sys

def print_exception_hierarchy(excep_type, level=0):
    print("  " * level + excep_type.__name__)
    for sub_type in excep_type.__subclasses__():
        print_exception_hierarchy(sub_type, level + 1)

print("Python Exception Hierarchy:")
print_exception_hierarchy(BaseException)

o/p:
Python Exception Hierarchy:
BaseException
  Exception
    TypeError
      FloatOperation
      MultipartConversionError
    StopAsyncIteration
    StopIteration
    ImportError
      ModuleNotFoundError
      ZipImportError
    OSError
      ConnectionError
        BrokenPipeError
        ConnectionAbortedError
        ConnectionRefusedError
        ConnectionResetError
          RemoteDisconnected
      BlockingIOError
      ChildProcessError
      FileExistsError
      FileNotFoundError
      IsADirectoryError
      NotADirectoryError
      InterruptedError
        InterruptedSystemCall
      PermissionError
      ProcessLookupError
      TimeoutError
      UnsupportedOperation
      itimer_error
      herror
      gaierror
      SSLError
        SSLCertVerificationError
        SSLZeroReturnError
        SSLWantWriteError
        SSLWantReadError
        SSLSyscallError
        SSLEOFError
      Error
        SameFileError
      SpecialFileError
      ExecError
      ReadError
      URLError
        HTTPError
        ContentTooShortError
      BadGzipFile
    EOFError
      IncompleteReadError
    RuntimeError
      RecursionError
      NotImplementedError
        ZMQVersionError
        StdinNotImplementedError
      _DeadlockError
      BrokenBarrierError
      BrokenExecutor
        BrokenThreadPool
      SendfileNotAvailableError
      ExtractionError
      VariableError
    NameError
      UnboundLocalError
    AttributeError
      FrozenInstanceError
    SyntaxError
      IndentationError
        TabError
    LookupError
      IndexError
      KeyError
        NoSuchKernel
        UnknownBackend
      CodecRegistryError
    ValueError
      UnicodeError
        UnicodeEncodeError
        UnicodeDecodeError
        UnicodeTranslateError
      UnsupportedOperation
      JSONDecodeError
      SSLCertVerificationError
      Error
      UnsupportedDigestmodError
      IllegalMonthError
      IllegalWeekdayError
      ParserError
      ClassNotFound
      ClipboardEmpty
      MessageDefect
        NoBoundaryInMultipartDefect
        StartBoundaryNotFoundDefect
        CloseBoundaryNotFoundDefect
        FirstHeaderLineIsContinuationDefect
        MisplacedEnvelopeHeaderDefect
        MissingHeaderBodySeparatorDefect
        MultipartInvariantViolationDefect
        InvalidMultipartContentTransferEncodingDefect
        UndecodableBytesDefect
        InvalidBase64PaddingDefect
        InvalidBase64CharactersDefect
        InvalidBase64LengthDefect
        HeaderDefect
          InvalidHeaderDefect
          HeaderMissingRequiredValue
          NonPrintableDefect
          ObsoleteHeaderDefect
          NonASCIILocalPartDefect
          InvalidDateDefect
      MacroToEdit
      InvalidFileException
      UnequalIterablesError
      InvalidVersion
      _InvalidELFFileHeader
      InvalidWheelFilename
      InvalidSdistFilename
      InvalidSpecifier
      InvalidMarker
      UndefinedComparison
      UndefinedEnvironmentName
      InvalidRequirement
        RequirementParseError
      InvalidVersion
    AssertionError
    ArithmeticError
      FloatingPointError
      OverflowError
      ZeroDivisionError
        DivisionByZero
        DivisionUndefined
      DecimalException
        Clamped
        Rounded
          Underflow
          Overflow
        Inexact
          Underflow
          Overflow
        Subnormal
          Underflow
        DivisionByZero
        FloatOperation
        InvalidOperation
          ConversionSyntax
          DivisionImpossible
          DivisionUndefined
          InvalidContext
    SystemError
      CodecRegistryError
    ReferenceError
    MemoryError
    BufferError
    Warning
      UserWarning
        GetPassWarning
        FormatterWarning
      EncodingWarning
      DeprecationWarning
        ProvisionalWarning
      PendingDeprecationWarning
      SyntaxWarning
      RuntimeWarning
        ProactorSelectorThreadWarning
        UnknownTimezoneWarning
        PEP440Warning
      FutureWarning
        ProvisionalCompleterWarning
      ImportWarning
      UnicodeWarning
      BytesWarning
      ResourceWarning
      DeprecatedTzFormatWarning
      PkgResourcesDeprecationWarning
    _OptionError
    _Error
    error
    Verbose
    Error
    SubprocessError
      CalledProcessError
      TimeoutExpired
    TokenError
    StopTokenizing
    ClassFoundException
    EndOfBlock
    TraitError
    Error
    Error
      CancelledError
      TimeoutError
      InvalidStateError
    _GiveupOnSendfile
    error
    Incomplete
    TimeoutError
    InvalidStateError
    LimitOverrunError
    QueueEmpty
    QueueFull
    Empty
    Full
    ArgumentError
    ZMQBaseError
      ZMQError
        ContextTerminated
        Again
        InterruptedSystemCall
      ZMQBindError
      NotDone
    PickleError
      PicklingError
      UnpicklingError
    _Stop
    ArgumentError
    ArgumentTypeError
    ConfigError
      ConfigLoaderError
        ArgumentError
      ConfigFileNotFound
    ConfigurableError
      MultipleInstanceError
    ApplicationError
    error
    TimeoutError
    error
    ReturnValueIgnoredError
    KeyReuseError
    UnknownKeyError
    LeakedCallbackError
    BadYieldError
    ReturnValueIgnoredError
    Return
    InvalidPortNumber
    error
    LZMAError
    RegistryError
    _GiveupOnFastCopy
    Error
      NoSectionError
      DuplicateSectionError
      DuplicateOptionError
      NoOptionError
      InterpolationError
        InterpolationMissingOptionError
        InterpolationSyntaxError
        InterpolationDepthError
      ParsingError
        MissingSectionHeaderError
    NoIPAddresses
    BadZipFile
    LargeZipFile
    BadEntryPoint
    NoSuchEntryPoint
    DuplicateKernelError
    ErrorDuringImport
    NotOneValueFound
    CannotEval
    OptionError
    BdbQuit
    Restart
    ExceptionPexpect
      EOF
      TIMEOUT
    PtyProcessError
    FindCmdError
    HomeDirError
    ProfileDirError
    IPythonCoreError
      TryNext
      UsageError
      StdinNotImplementedError
    InputRejected
    GetoptError
    ErrorToken
    PrefilterError
    AliasError
      InvalidAliasError
    Error
      InterfaceError
      DatabaseError
        InternalError
        OperationalError
        ProgrammingError
        IntegrityError
        DataError
        NotSupportedError
    Warning
    SpaceInInput
    DOMException
      IndexSizeErr
      DomstringSizeErr
      HierarchyRequestErr
      WrongDocumentErr
      InvalidCharacterErr
      NoDataAllowedErr
      NoModificationAllowedErr
      NotFoundErr
      NotSupportedErr
      InuseAttributeErr
      InvalidStateErr
      SyntaxErr
      InvalidModificationErr
      NamespaceErr
      InvalidAccessErr
      ValidationErr
    ValidationError
    EditReadOnlyBuffer
    _Retry
    InvalidLayoutError
    HeightIsUnknownError
    ParserSyntaxError
    InternalParseError
    _PositionUpdatingFinished
    SimpleGetItemNotFound
    UncaughtAttributeError
    HasNoContext
    ParamIssue
    _JediError
      InternalError
      WrongVersion
      RefactoringError
    OnErrorLeaf
    InvalidPythonEnvironment
    MessageError
      MessageParseError
        HeaderParseError
        BoundaryError
      MultipartConversionError
      CharsetError
    Error
    HTTPException
      NotConnected
      InvalidURL
      UnknownProtocol
      UnknownTransferEncoding
      UnimplementedFileMode
      IncompleteRead
      ImproperConnectionState
        CannotSendRequest
        CannotSendHeader
        ResponseNotReady
      BadStatusLine
        RemoteDisconnected
      LineTooLong
    InteractivelyDefined
    KillEmbedded
    Error
      NoSuchProcess
        ZombieProcess
      AccessDenied
      TimeoutExpired
    _Ipv6UnsupportedError
    QueueEmpty
    QueueFull
    DebuggerInitializationError
    ExpatError
    Error
      ProtocolError
      ResponseError
      Fault
    ParseBaseException
      ParseException
      ParseFatalException
        ParseSyntaxException
    RecursiveGrammarException
    ResolutionError
      VersionConflict
        ContextualVersionConflict
      DistributionNotFound
      UnknownExtra
    _Error
    UnableToResolveVariableException
    InvalidTypeInArgsException
    MyCustomException
  GeneratorExit
  SystemExit
  KeyboardInterrupt
  CancelledError
  AbortThread
------------------------------------------------------------------------------------------------------
Q3. What errors are defined in the ArithmeticError class? Explain any two with an example.
-----------------------------------------------------------------------------------------------------
A-
The ArithmeticError class is a base class for exceptions related to arithmetic operations in Python.
 It serves as a parent class for various exceptions that can occur during mathematical calculations. 
Two common exceptions derived from ArithmeticError are:

ZeroDivisionError:

This exception is raised when you attempt to divide a number by zero, which is mathematically undefined.
Eg: try:
    result = 5 / 0  # Attempting to divide by zero
except ZeroDivisionError as e:
    print(f"ZeroDivisionError: {e}")

o/p: ZeroDivisionError: division by zero

OverflowError:

This exception occurs when a numeric operation exceeds the limit of what can be represented in a specific numeric type.

Eg: import sys

try:
    x = sys.maxsize  # Get the maximum value for the current system's integer type
    y = x + 1       # Attempt to exceed the maximum value
except OverflowError as e:
    print(f"OverflowError: {e}")

o/p:  OverflowError: we attempt to exceed the maximum value representable by the system's integer type
------------------------------------------------------------------------------------------------
Q4. Why LookupError class is used? Explain with an example KeyError and IndexError.
------------------------------------------------------------------------------------------------
A-
The LookupError class in Python is a base class for exceptions related to dictionary and sequence lookups. 
It's used to catch and handle exceptions that occur when attempting to access elements or keys that are not found in a sequence (like a list or tuple) or a mapping (like a dictionary). 
Two common exceptions derived from LookupError are KeyError and IndexError.

KeyError:

This exception is raised when you try to access a dictionary key that doesn't exist.
Eg:
my_dict = {"name": "Alice", "age": 30}

try:
    print(my_dict["gender"])  # Attempt to access a non-existent key
except KeyError as e:
    print(f"KeyError: {e}")

o/p:  KeyError: 'gender'

IndexError:

This exception is raised when you try to access an index in a sequence (like a list or tuple) that is out of bounds, meaning it's greater than or equal to the length of the sequence.

Eg:
my_list = [1, 2, 3]

try:
    print(my_list[3])  # Attempt to access an index that is out of bounds
except IndexError as e:
    print(f"IndexError: {e}")

o/p:  IndexError: list index out of range
---------------------------------------------------------------
Q5. Explain ImportError. What is ModuleNotFoundError?
---------------------------------------------------------------
A-
ImportError:

ImportError is a broad exception that is raised when there is an issue with importing a module. It can be caused by various reasons, including the following:
The module you're trying to import doesn't exist or cannot be found in the Python path.
There are errors or issues in the module you're trying to import, such as syntax errors or other runtime problems.
There may be circular imports where two or more modules depend on each other in a way that creates an import loop.

Code:
try:
    import non_existent_module  # Attempt to import a module that doesn't exist
except ImportError as e:
    print(f"ImportError: {e}")

o/p:  ImportError: No module named 'non_existent_module'

ModuleNotFoundError:

ModuleNotFoundError is a specific subclass of ImportError introduced in Python 3.6. 
It is raised when a module is not found or importable. This error is more specific and provides a clearer message about the missing module.

Code:
try:
    import non_existent_module  # Attempt to import a module that doesn't exist
except ModuleNotFoundError as e:
    print(f"ModuleNotFoundError: {e}")

o/p:  ModuleNotFoundError: No module named 'non_existent_module'
------------------------------------------------------------------------------
Q6. List down some best practices for exception handling in python.
--------------------------------------------------------------------------------

A-
#use always specific exception
------------------------------

try:
    10/0
except ZeroDivisionError as e:
    print(e)

o/p:  division by zero

#print always a proper msg
try:
    10/0
except ZeroDivisionError as e:
    print('hello this is zero division error code ', e)

o/p:  hello this is zero division error code  division by zero

#always try to log your err
----------------------------
import logging
logging.basicConfig(filename =' test3.log', level = logging.ERROR)
try:
    10/0
except ZeroDivisionError as e:
    logging.error('hello this is zero division error code {} '.format (e))

o/p:  ERROR:root:hello this is zero division error code division by zero 

#avoid to write multiple exception handling
---------------------------------------------

try:
    10/0
except FileNotFoundError as e:
    logging.error('hello cant find error code {} '.format (e))

except AttributeError as e:
    logging.error('hello cant find this error code {} '.format (e))
except ZeroDivisionError as e:
    logging.error('hello this is zero division error code {} '.format (e))

#Docum all error
------------------
#clean all te reources
-----------------------
try:
   
    with open("tmt.txt", 'w') as f:
        f.write("this is my code")
except FileNotFoundError as e:
    logging.error('hello cant find error code {} '.format (e))

