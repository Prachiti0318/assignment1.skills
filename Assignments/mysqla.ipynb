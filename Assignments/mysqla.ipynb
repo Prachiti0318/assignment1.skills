Q.1 Q1. What is a database? Differentiate between SQL and NoSQL databases.

A- A database is a structured collection of data that is organized in a way to easily access, manage, and update information. It can be thought of as an organized electronic filing system where data can be stored, retrieved, and manipulated.

Sql - 1. RELATIONAL DATABASE MANAGEMENT SYSTEM (RDBMS)
      2. These databases have fixed or static or predefined schema
      3. These databases are not suited for hierarchical data storage.
      4. Vertically Scalable
      5.Eg : MySQL, PostgreSQL, Oracle, MS-SQL Server
      
NoSql - 1. Non-relational or distributed database system.
        2. They have a dynamic schema
        3. These databases are best suited for hierarchical data storage.
        4. Horizontally scalable
        5. Eg: MongoDB, HBase, Neo4j
---------------------------------------------------------------------------------------------------------------------------------------------------
Q2. What is DDL? Explain why CREATE, DROP, ALTER, and TRUNCATE are used with an example.

A - DDL stands for Data Definition Language, and it is a subset of SQL (Structured Query Language) used for defining and managing the structure of a database. DDL statements are responsible for defining, altering, and dropping database objects.

1. CREATE : The CREATE statement is used to create a new database object, such as a table, view, index, or schema.

Eg:  CREATE TABLE employees (
  employee_id INT PRIMARY KEY,
  first_name VARCHAR(50),
  last_name VARCHAR(50),
  hire_date DATE
);

2. DROP : The DROP statement is used to remove an existing database object, such as a table, view, or index.

Eg : DROP TABLE employees;

3. ALTER: The ALTER statement is used to modify the structure of an existing database object. It can be used to add, modify, or drop columns in a table, among other modifications.

Eg : ALTER TABLE employees
ADD COLUMN department_id INT;

4. TRUNCATE:  The TRUNCATE statement is used to remove all rows from a table while retaining the structure for future use.

Eg: TRUNCATE TABLE employees;
--------------------------------------------------------------------------------------------------------------------------------------------------------------
Q.3  What is DML? Explain INSERT, UPDATE, and DELETE with an example.

DML stands for Data Manipulation Language, and it is a subset of SQL (Structured Query Language) used for manipulating data stored in a database. DML operations allow you to insert, update, and delete data in database tables.

# INSERT: The INSERT statement is used to add new rows of data into a table.

Eg : INSERT INTO employees (employee_id, first_name, last_name,) 
VALUES (1, 'John', 'Doe');

# UPDATE: The UPDATE statement is used to modify existing data in a table based on specified conditions.

Eg : UPDATE employees
SET first_name = 'Jane'
WHERE employee_id = 1;

DELETE: The DELETE statement is used to remove rows from a table based on specified conditions.

Eg: DELETE FROM employees
WHERE employee_id = 1;
------------------------------------------------------------------------------------------------------------------------------------------------------------------
Q.4 What is DQL? Explain SELECT with an example.

A- DQL stands for Data Query Language, and it is a subset of SQL (Structured Query Language) used for querying and retrieving data from a database. The primary DQL statement is SELECT, which allows you to retrieve data from one or more tables based on specified criteria.

# SELECT: 

Consider a table named "employees" with columns such as employee_id, first_name, last_name, and hire_date. To retrieve information about employees who were hired after a specific date, you can use the following SELECT statement:

CODE: SELECT employee_id, first_name, last_name, hire_date
FROM employees
WHERE hire_date > '2022-01-01';

> SELECT employee_id, first_name, last_name, hire_date: Specifies the columns you want to retrieve in the result set.

> FROM employees: Specifies the table from which to retrieve data (in this case, the "employees" table).

> WHERE hire_date > '2022-01-01': Specifies a condition to filter the rows based on the hire date. Only rows where the hire date is after January 1, 2022, will be included in the result set.
----------------------------------------------------------------------------------------------------------------------------------------------------------------------      
Q5. Explain Primary Key and Foreign Key.

A- 
#PRIMARY KEY:

A primary key is a field or a combination of fields in a database table that uniquely identifies each record in that table. Its main characteristics are:

>Uniqueness
>Non-nullability
>Indexing

Eg: CREATE TABLE employees (
  employee_id INT PRIMARY KEY,
  first_name VARCHAR(50),
  last_name VARCHAR(50),
  hire_date DATE
);

# FOREIGN KEY:

A foreign key is a column or a set of columns in a database table that refers to the primary key of another table. It establishes a link between the two tables based on the values stored in these columns. 

Eg : 
CREATE TABLE departments (
  department_id INT PRIMARY KEY,
  department_name VARCHAR(50)
);

CREATE TABLE employees (
  employee_id INT PRIMARY KEY,
  first_name VARCHAR(50),
  last_name VARCHAR(50),
  hire_date DATE,
  department_id INT,
  FOREIGN KEY (department_id) REFERENCES departments(department_id)
);
------------------------------------------------------------------------------------------------------------------------------------------------------------------
