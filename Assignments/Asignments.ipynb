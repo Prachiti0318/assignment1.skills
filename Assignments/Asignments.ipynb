{
 "cells": [
  {
   "cell_type": "code",
   "execution_count": null,
   "id": "6b5cea5c-d007-46f4-a91f-f3cc5a1290b2",
   "metadata": {},
   "outputs": [],
   "source": [
    "# Assign\n",
    "#Multithreading assign\n"
   ]
  },
  {
   "cell_type": "code",
   "execution_count": 1,
   "id": "41c7fea4-2829-4171-bbf8-b14926cee866",
   "metadata": {},
   "outputs": [
    {
     "name": "stdout",
     "output_type": "stream",
     "text": [
      "Number of active threads: 8\n"
     ]
    },
    {
     "name": "stderr",
     "output_type": "stream",
     "text": [
      "/tmp/ipykernel_112/3335013932.py:12: DeprecationWarning: activeCount() is deprecated, use active_count() instead\n",
      "  print(f\"Number of active threads: {threading.activeCount()}\")\n"
     ]
    }
   ],
   "source": [
    "#Active thread-return all thread\n",
    "import threading\n",
    "\n",
    "def thread_function():\n",
    "    pass\n",
    "\n",
    "thread1 = threading.Thread(target=thread_function)\n",
    "thread2 = threading.Thread(target=thread_function)\n",
    "\n",
    "thread1.start()\n",
    "thread2.start()\n",
    "\n",
    "print(f\"Number of active threads: {threading.activeCount()}\")\n"
   ]
  },
  {
   "cell_type": "code",
   "execution_count": 2,
   "id": "c020513d-1a07-4b00-8c1e-b5c0844adb55",
   "metadata": {},
   "outputs": [
    {
     "name": "stdout",
     "output_type": "stream",
     "text": [
      "Current Thread Name: Thread-7 (thread_function)\n",
      "Current Thread Name: Thread-8 (thread_function)\n"
     ]
    }
   ],
   "source": [
    "#Curr thread-return curr thread\n",
    "import threading\n",
    "\n",
    "def thread_function():\n",
    "    current_thread = threading.current_thread()\n",
    "    print(f\"Current Thread Name: {current_thread.name}\")\n",
    "\n",
    "thread1 = threading.Thread(target=thread_function)\n",
    "thread2 = threading.Thread(target=thread_function)\n",
    "\n",
    "thread1.start()\n",
    "thread2.start()\n"
   ]
  },
  {
   "cell_type": "code",
   "execution_count": 3,
   "id": "93030e24-b7a3-4e2a-9c38-1a4bf491b439",
   "metadata": {},
   "outputs": [
    {
     "name": "stdout",
     "output_type": "stream",
     "text": [
      "Thread Name: MainThread\n",
      "Thread Name: IOPub\n",
      "Thread Name: Heartbeat\n",
      "Thread Name: Thread-3 (_watch_pipe_fd)\n",
      "Thread Name: Thread-4 (_watch_pipe_fd)\n",
      "Thread Name: Control\n",
      "Thread Name: IPythonHistorySavingThread\n",
      "Thread Name: Thread-2\n"
     ]
    }
   ],
   "source": [
    "#enumerate-return list in thread\n",
    "import threading\n",
    "\n",
    "def thread_function():\n",
    "    pass\n",
    "\n",
    "thread1 = threading.Thread(target=thread_function)\n",
    "thread2 = threading.Thread(target=thread_function)\n",
    "\n",
    "thread1.start()\n",
    "thread2.start()\n",
    "\n",
    "thread_list = threading.enumerate()\n",
    "for thread in thread_list:\n",
    "    print(f\"Thread Name: {thread.name}\")\n"
   ]
  },
  {
   "cell_type": "code",
   "execution_count": 1,
   "id": "8ba57d80-4ceb-459d-a59d-3d51c9da7365",
   "metadata": {},
   "outputs": [
    {
     "name": "stdout",
     "output_type": "stream",
     "text": [
      "Thread Thread-5 - Count: 0\n",
      "Thread Thread-5 - Count: 1\n",
      "Thread Thread-5 - Count: 2\n",
      "Thread Thread-5 - Count: 3\n",
      "Thread Thread-5 - Count: 4\n"
     ]
    }
   ],
   "source": [
    "#run\n",
    "import threading\n",
    "\n",
    "class MyThread(threading.Thread):\n",
    "    def run(self):\n",
    "        for i in range(5):\n",
    "            print(f\"Thread {self.name} - Count: {i}\")\n",
    "\n",
    "thread1 = MyThread()\n",
    "thread1.start()\n"
   ]
  },
  {
   "cell_type": "code",
   "execution_count": 2,
   "id": "fe50f6b7-3d92-4f0e-90c9-509018a0da2e",
   "metadata": {},
   "outputs": [
    {
     "name": "stdout",
     "output_type": "stream",
     "text": [
      "Thread function\n"
     ]
    }
   ],
   "source": [
    "#start\n",
    "import threading\n",
    "\n",
    "def my_function():\n",
    "    print(\"Thread function\")\n",
    "\n",
    "thread1 = threading.Thread(target=my_function)\n",
    "thread1.start()\n"
   ]
  },
  {
   "cell_type": "code",
   "execution_count": 3,
   "id": "5937d53b-88d1-4c39-a179-e9e37e61818a",
   "metadata": {},
   "outputs": [
    {
     "name": "stdout",
     "output_type": "stream",
     "text": [
      "Thread function\n",
      "Main program\n"
     ]
    }
   ],
   "source": [
    "#join\n",
    "import threading\n",
    "\n",
    "def my_function():\n",
    "    print(\"Thread function\")\n",
    "\n",
    "thread1 = threading.Thread(target=my_function)\n",
    "thread1.start()\n",
    "thread1.join()  # Wait for thread1 to finish before continuing\n",
    "print(\"Main program\")\n",
    "\n"
   ]
  },
  {
   "cell_type": "code",
   "execution_count": 6,
   "id": "c61e04ed-f380-4204-862c-6a6219a263aa",
   "metadata": {},
   "outputs": [
    {
     "ename": "AttributeError",
     "evalue": "'Thread' object has no attribute 'isAlive'",
     "output_type": "error",
     "traceback": [
      "\u001b[0;31m---------------------------------------------------------------------------\u001b[0m",
      "\u001b[0;31mAttributeError\u001b[0m                            Traceback (most recent call last)",
      "Cell \u001b[0;32mIn[6], line 10\u001b[0m\n\u001b[1;32m      8\u001b[0m thread1 \u001b[38;5;241m=\u001b[39m threading\u001b[38;5;241m.\u001b[39mThread(target\u001b[38;5;241m=\u001b[39mmy_function)\n\u001b[1;32m      9\u001b[0m thread1\u001b[38;5;241m.\u001b[39mstart()\n\u001b[0;32m---> 10\u001b[0m \u001b[38;5;28mprint\u001b[39m(\u001b[38;5;124m\"\u001b[39m\u001b[38;5;124mIs thread1 alive?\u001b[39m\u001b[38;5;124m\"\u001b[39m, \u001b[43mthread1\u001b[49m\u001b[38;5;241;43m.\u001b[39;49m\u001b[43misAlive\u001b[49m())\n\u001b[1;32m     11\u001b[0m thread1\u001b[38;5;241m.\u001b[39mjoin()  \u001b[38;5;66;03m# Wait for thread1 to finish\u001b[39;00m\n\u001b[1;32m     12\u001b[0m \u001b[38;5;28mprint\u001b[39m(\u001b[38;5;124m\"\u001b[39m\u001b[38;5;124mIs thread1 alive?\u001b[39m\u001b[38;5;124m\"\u001b[39m, thread1\u001b[38;5;241m.\u001b[39misAlive())\n",
      "\u001b[0;31mAttributeError\u001b[0m: 'Thread' object has no attribute 'isAlive'"
     ]
    }
   ],
   "source": [
    "#is alive\n",
    "import threading\n",
    "import time\n",
    "\n",
    "def my_function():\n",
    "    time.sleep(2)\n",
    "\n",
    "thread1 = threading.Thread(target=my_function)\n",
    "thread1.start()\n",
    "print(\"Is thread1 alive?\", thread1.isAlive())\n",
    "thread1.join()  # Wait for thread1 to finish\n",
    "print(\"Is thread1 alive?\", thread1.isAlive())\n"
   ]
  },
  {
   "cell_type": "code",
   "execution_count": 7,
   "id": "6f5c7859-3305-453e-ac10-08d49f6afcf4",
   "metadata": {},
   "outputs": [
    {
     "name": "stdout",
     "output_type": "stream",
     "text": [
      "Thread is running\n"
     ]
    },
    {
     "ename": "AttributeError",
     "evalue": "'Thread' object has no attribute 'isAlive'",
     "output_type": "error",
     "traceback": [
      "\u001b[0;31m---------------------------------------------------------------------------\u001b[0m",
      "\u001b[0;31mAttributeError\u001b[0m                            Traceback (most recent call last)",
      "Cell \u001b[0;32mIn[7], line 16\u001b[0m\n\u001b[1;32m     13\u001b[0m thread1\u001b[38;5;241m.\u001b[39mstart()\n\u001b[1;32m     15\u001b[0m \u001b[38;5;66;03m# Check if the thread is alive\u001b[39;00m\n\u001b[0;32m---> 16\u001b[0m \u001b[38;5;28;01mwhile\u001b[39;00m \u001b[43mthread1\u001b[49m\u001b[38;5;241;43m.\u001b[39;49m\u001b[43misAlive\u001b[49m():\n\u001b[1;32m     17\u001b[0m     \u001b[38;5;28mprint\u001b[39m(\u001b[38;5;124m\"\u001b[39m\u001b[38;5;124mThread is still running...\u001b[39m\u001b[38;5;124m\"\u001b[39m)\n\u001b[1;32m     18\u001b[0m     time\u001b[38;5;241m.\u001b[39msleep(\u001b[38;5;241m1\u001b[39m)\n",
      "\u001b[0;31mAttributeError\u001b[0m: 'Thread' object has no attribute 'isAlive'"
     ]
    },
    {
     "name": "stdout",
     "output_type": "stream",
     "text": [
      "Thread has finished\n"
     ]
    }
   ],
   "source": [
    "import threading\n",
    "import time\n",
    "\n",
    "def my_function():\n",
    "    print(\"Thread is running\")\n",
    "    time.sleep(2)\n",
    "    print(\"Thread has finished\")\n",
    "\n",
    "# Create a thread\n",
    "thread1 = threading.Thread(target=my_function)\n",
    "\n",
    "# Start the thread\n",
    "thread1.start()\n",
    "\n",
    "# Check if the thread is alive\n",
    "while thread1.isAlive():\n",
    "    print(\"Thread is still running...\")\n",
    "    time.sleep(1)\n",
    "\n",
    "print(\"Thread is no longer alive\")\n"
   ]
  },
  {
   "cell_type": "code",
   "execution_count": 8,
   "id": "e40aabb4-2218-4025-96e7-99c95f207d8e",
   "metadata": {},
   "outputs": [
    {
     "name": "stdout",
     "output_type": "stream",
     "text": [
      "Square of 1: 1\n",
      "Square of 2: 4\n",
      "Square of 3: 9\n",
      "Square of 4: 16\n",
      "Square of 5: 25\n",
      "Cube of 1: 1\n",
      "Cube of 2: 8\n",
      "Cube of 3: 27\n",
      "Cube of 4: 64\n",
      "Cube of 5: 125\n",
      "Both threads have finished.\n"
     ]
    }
   ],
   "source": [
    "import threading\n",
    "\n",
    "def print_squares():\n",
    "    for i in range(1, 6):\n",
    "        print(f\"Square of {i}: {i * i}\")\n",
    "\n",
    "def print_cubes():\n",
    "    for i in range(1, 6):\n",
    "        print(f\"Cube of {i}: {i * i * i}\")\n",
    "\n",
    "# Create two thread objects, one for each function\n",
    "thread1 = threading.Thread(target=print_squares)\n",
    "thread2 = threading.Thread(target=print_cubes)\n",
    "\n",
    "# Start both threads\n",
    "thread1.start()\n",
    "thread2.start()\n",
    "\n",
    "# Wait for both threads to finish\n",
    "thread1.join()\n",
    "thread2.join()\n",
    "\n",
    "print(\"Both threads have finished.\")\n"
   ]
  },
  {
   "cell_type": "code",
   "execution_count": 9,
   "id": "47d21b85-1b40-48bc-87f6-d3e2ef148ef8",
   "metadata": {},
   "outputs": [
    {
     "name": "stdout",
     "output_type": "stream",
     "text": [
      "Counter: 2000000\n"
     ]
    }
   ],
   "source": [
    "#Race condn\n",
    "import threading\n",
    "\n",
    "counter = 0\n",
    "\n",
    "def increment_counter():\n",
    "    global counter\n",
    "    for _ in range(1000000):\n",
    "        counter += 1\n",
    "\n",
    "# Create two threads that increment the counter\n",
    "thread1 = threading.Thread(target=increment_counter)\n",
    "thread2 = threading.Thread(target=increment_counter)\n",
    "\n",
    "thread1.start()\n",
    "thread2.start()\n",
    "\n",
    "thread1.join()\n",
    "thread2.join()\n",
    "\n",
    "print(\"Counter:\", counter)\n"
   ]
  },
  {
   "cell_type": "code",
   "execution_count": 2,
   "id": "8d1df806-9a44-45a5-ab08-c91b434716d1",
   "metadata": {},
   "outputs": [
    {
     "name": "stdout",
     "output_type": "stream",
     "text": [
      "The square of 2 is 4The square of 4 is 16The square of 5 is 25The square of 3 is 9The square of 1 is 1\n",
      "\n",
      "\n",
      "\n",
      "\n"
     ]
    }
   ],
   "source": [
    "#Assign multiprocessing\n",
    "\n",
    "#MUltiprocessing\n",
    "import multiprocessing\n",
    "\n",
    "# Function to calculate the square of a number\n",
    "def square(number):\n",
    "    result = number * number\n",
    "    print(f\"The square of {number} is {result}\")\n",
    "\n",
    "if __name__ == \"__main__\":\n",
    "    # List of numbers to calculate squares for\n",
    "    numbers = [1, 2, 3, 4, 5]\n",
    "\n",
    "    # Create a pool of processes\n",
    "    pool = multiprocessing.Pool()\n",
    "\n",
    "    # Use the pool to map the 'square' function to the list of numbers\n",
    "    pool.map(square, numbers)\n",
    "\n",
    "    # Close the pool to release resources\n",
    "    pool.close()\n",
    "    pool.join()\n"
   ]
  },
  {
   "cell_type": "code",
   "execution_count": 3,
   "id": "b0a85f17-c475-4a5e-ba00-cf4cdc5df0df",
   "metadata": {},
   "outputs": [
    {
     "name": "stdout",
     "output_type": "stream",
     "text": [
      "[1, 4, 9, 16, 25]\n"
     ]
    }
   ],
   "source": [
    "#pool\n",
    "import multiprocessing\n",
    "\n",
    "def square(x):\n",
    "    return x * x\n",
    "\n",
    "if __name__ == \"__main__\":\n",
    "    inputs = [1, 2, 3, 4, 5]\n",
    "    \n",
    "    with multiprocessing.Pool(processes=4) as pool:\n",
    "        results = pool.map(square, inputs)\n",
    "    \n",
    "    print(results)\n"
   ]
  },
  {
   "cell_type": "code",
   "execution_count": 4,
   "id": "f7cdfcef-84da-4cb9-a1eb-859384b9be8d",
   "metadata": {},
   "outputs": [
    {
     "name": "stdout",
     "output_type": "stream",
     "text": [
      "[1, 4, 9, 16, 25]\n"
     ]
    }
   ],
   "source": [
    "import multiprocessing\n",
    "\n",
    "# A sample function to be executed in parallel\n",
    "def square(x):\n",
    "    return x * x\n",
    "\n",
    "if __name__ == \"__main__\":\n",
    "    inputs = [1, 2, 3, 4, 5]\n",
    "    \n",
    "    # Create a pool with the number of processes equal to CPU cores\n",
    "    with multiprocessing.Pool(processes=multiprocessing.cpu_count()) as pool:\n",
    "        results = pool.map(square, inputs)\n",
    "    \n",
    "    print(results)\n"
   ]
  },
  {
   "cell_type": "code",
   "execution_count": null,
   "id": "5054b005-0be4-4028-80aa-c8b1c663e0e1",
   "metadata": {},
   "outputs": [],
   "source": []
  }
 ],
 "metadata": {
  "kernelspec": {
   "display_name": "Python 3 (ipykernel)",
   "language": "python",
   "name": "python3"
  },
  "language_info": {
   "codemirror_mode": {
    "name": "ipython",
    "version": 3
   },
   "file_extension": ".py",
   "mimetype": "text/x-python",
   "name": "python",
   "nbconvert_exporter": "python",
   "pygments_lexer": "ipython3",
   "version": "3.10.8"
  }
 },
 "nbformat": 4,
 "nbformat_minor": 5
}
