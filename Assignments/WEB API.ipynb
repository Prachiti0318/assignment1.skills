Q1. What is an API? Give an example, where an API is used in real life.
A-
API stands for Application Programming Interface. It is a set of rules and tools that allows different software applications to communicate with each other. 
APIs define the methods and data formats that applications can use to request and exchange information. 
Example: Weather API

#How it works:
The weather application sends a request to the Weather API, asking for specific weather information.
The Weather API processes the request, retrieves the relevant data from its database or external sources, and formats it according to a predefined structure.
The Weather API sends the formatted data back to the weather application.
The weather application receives the data and displays it to the user in a readable format.
-----------------------------------------------------------------------------------------------------------------------------------------------------
Q2. Give advantages and disadvantages of using API.
A-
#ADVANTAGE:

Interoperability: APIs enable different software systems and applications to communicate and work together.
Rapid Development: APIs facilitate rapid development by providing predefined functions and features. 
Modularity and Reusability: APIs promote a modular approach to software development. Developers can create independent modules (APIs) that perform specific functions. 
Scalability: APIs help in scaling applications by allowing them to leverage external resources or services. 
Improved Security: APIs can enforce security measures, such as authentication and authorization, ensuring that only authorized users or applications can access certain functionalities or data.

DISADVANTAGE:

Security Concerns: Poorly designed or implemented APIs may expose sensitive data or vulnerabilities if not properly secured.
Complexity: Integrating multiple APIs or working with complex APIs can increase the overall complexity of an application. 
Limited Customization: Some APIs may have limitations on customization, restricting developers from fine-tuning certain features according to their specific needs.
Costs: While many APIs offer free access, some premium APIs or services may involve costs based on usage. 
-----------------------------------------------------------------------------------------------------------------------------------------------------------
Q3. What is a Web API? Differentiate between API and Web API.
A-

Web APIs: API stands for Application Programming Interface. 
It is a collection of communication conventions and subroutines used by various programs to communicate between them.
A developer can utilize different API apparatuses to make its program simpler and less complex. 
It is a set of protocols and schedules, and its reactions are returned as JSON or XML in data. 
APIs can utilize any kind of communication convention and are not restricted similarly as a web service is.

Web API:
Web API are a type of API, which must be accessed through a network connection.
Web API is used for REST, SOAP and XML-RPC for communication.
All Web service are APIs.
Web API supports only XML.
Web API can be hosted on IIS.	

API:
APIs are application interfaces, implying that one application can communicate with another application in a standardized manner.
API is used for any style of communication.
APIs are not web services.
API supports XML and JSON.
Web API can be hosted only on IIS and self.
------------------------------------------------------------------------------------------------------------------------------------------------------
Q4. Explain REST and SOAP Architecture. Mention shortcomings of SOAP.
A-
#REST (Representational State Transfer):

REST, or Representational State Transfer, is an architectural style for designing networked applications. 
It relies on a stateless, client-server communication model, where each request from a client contains all the information needed to understand and fulfill that request. 
RESTful systems are characterized by the following principles:

Statelessness: Each request from a client to a server must contain all the information needed to understand and process the request.
Resource-Based: Resources (such as data or services) are identified by URIs (Uniform Resource Identifiers) and are manipulated using standard HTTP methods (GET, POST, PUT, DELETE, etc.).
Representation: Resources can have multiple representations (e.g., JSON, XML), and clients interact with these representations rather than directly with the resources.

#SOAP (Simple Object Access Protocol):

SOAP is a protocol for exchanging structured information in web services. 
Unlike REST, which is an architectural style, SOAP is a protocol with a defined set of rules for structuring messages.
 Key features of SOAP include:

XML-Based Messaging: SOAP messages are typically formatted as XML, providing a platform-independent way to exchange information.
Complex Operations: SOAP is often used in scenarios where more complex operations, such as transactions and security, are required.
Protocol Neutrality: SOAP can operate over different protocols, including HTTP, SMTP, and more.

Shortcomings of SOAP:

Complexity: SOAP messages are often more complex and have larger overhead due to their XML-based format. 
Performance: The XML format used by SOAP can be less efficient in terms of parsing and processing compared to more lightweight formats like JSON used in RESTful APIs.
Limited Browser Support: SOAP is not well-suited for integration with web browsers and is more commonly used in enterprise-level integrations. 
Tight Coupling: SOAP services often have a higher level of coupling between the client and the server, making it less flexible compared to REST.
----------------------------------------------------------------------------------------------------------------------------------------------------------------------------------
Q5. Differentiate between REST and SOAP.
A-

SOAP API:
>Relies on SOAP (Simple Object Access Protocol)
>Transports data in standard XML format.
>Works over HTTP, HTTPS, SMTP, XMPP
>Highly structured/typed
>Designed with large enterprise applications in mind

REST API:
>Relies on REST (Representational State Transfer) architecture using HTTP.
>Generally transports data in JSON. It is based on URI.
>Works over HTTP and HTTPS
>Less structured -> less bulky data
>Designed with mobile devices in mind


