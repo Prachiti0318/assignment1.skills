{
 "cells": [
  {
   "cell_type": "code",
   "execution_count": null,
   "id": "6ab89053-6289-4cc3-b0fd-2ce73a8f792a",
   "metadata": {},
   "outputs": [],
   "source": [
    "Q1. What is Flask Framework? What are the advantages of Flask Framework?\n",
    "A-\n",
    "Flask Framework:\n",
    "\n",
    "Flask is a micro web framework written in Python.\n",
    "It is designed to be lightweight, modular, and easy to use, making it an excellent choice for developing web applications and APIs. \n",
    "Flask provides the essentials needed for building web applications without imposing too many constraints, allowing developers the flexibility to choose and integrate the components they need.\n",
    "\n",
    "Advantages of Flask Framework:\n",
    "\n",
    "Lightweight and Minimalistic:\n",
    "Flask is a micro-framework, meaning it provides the essential features for web development without unnecessary components.\n",
    "\n",
    "Flexibility:\n",
    "Flask gives developers the freedom to choose components and libraries based on their specific project requirements. \n",
    "\n",
    "Easy to Learn and Use:\n",
    "Flask has a straightforward and intuitive syntax, making it easy for beginners to learn and use. \n",
    "\n",
    "RESTful Request Handling:\n",
    "Flask provides easy ways to handle RESTful request patterns, making it suitable for building APIs and microservices. "
   ]
  },
  {
   "cell_type": "code",
   "execution_count": null,
   "id": "05fc766f-efc4-4fb1-9925-88f899f9e9d6",
   "metadata": {},
   "outputs": [],
   "source": [
    "Q2. Create a simple Flask application to display ‘Hello World!!’. Attach the screenshot of the output in\n",
    "Jupyter Notebook.\n",
    "A-"
   ]
  },
  {
   "cell_type": "code",
   "execution_count": null,
   "id": "56b95dcb-9416-48ae-8682-db07b4263261",
   "metadata": {},
   "outputs": [],
   "source": [
    "from flask import Flask\n",
    "\n",
    "app = Flask(__name__)\n",
    "\n",
    "@app.route(\"/\")\n",
    "def hello_world():\n",
    "    return \"<h1>Hello, World!</h1>\"\n",
    "\n",
    "if __name__==\"__main__\":\n",
    "    app.run(host=\"0.0.0.0\")\n",
    "\n",
    "o/p:(copy the route of your URL and pae in new window wit port of 5000)\n",
    "    Hello world!"
   ]
  },
  {
   "cell_type": "code",
   "execution_count": null,
   "id": "8bc27dd9-5e67-41da-8269-30483beb150b",
   "metadata": {},
   "outputs": [],
   "source": [
    "Q3. What is App routing in Flask? Why do we use app routes?\n",
    "A-\n",
    "App Routing in Flask:\n",
    "\n",
    "In Flask, app routing refers to the process of mapping URLs (Uniform Resource Locators) to specific functions or views in your application.\n",
    "It involves defining routes that determine how the application responds to different URL patterns. \n",
    "These routes are handled by corresponding functions, which generate the appropriate response for a given URL.\n",
    "\n",
    "Use of app routes in Flask:\n",
    "\n",
    "URL Mapping: App routes allow developers to define how different URLs should be mapped to specific functions or views in the application.\n",
    "Resource Organization: Routes help organize the code by associating specific functionalities with specific URLs.\n",
    "Code Separation: By using app routes, developers can separate the concerns of different parts of the application.\n",
    "Request Handling: App routes define how the application responds to different HTTP requests and help in directing users to the appropriate views or actions based on the requested URL.\n",
    "Ease of Development: App routes simplify the development process by providing a clear and intuitive way to define the structure of the web application.\n"
   ]
  },
  {
   "cell_type": "code",
   "execution_count": null,
   "id": "8daca38e-63d2-409f-b6cf-426c5d74ce0e",
   "metadata": {},
   "outputs": [],
   "source": [
    "Q4. Create a “/welcome” route to display the welcome message “Welcome to ABC Corporation” and a “/”\n",
    "route to show the following details:\n",
    "Company Name: ABC Corporation\n",
    "Location: India\n",
    "Contact Detail: 999-999-9999\n",
    "\n",
    "A-\n",
    "\n",
    "from flask import Flask\n",
    "\n",
    "app = Flask(__name__)\n",
    "\n",
    "@app.route(\"/welcome\")\n",
    "def hello_world():\n",
    "    return \"<h1>“Welcome to ABC Corporation”</h1>\"\n",
    "\n",
    "@app.route(\"/\")\n",
    "def hello_world2():\n",
    "    return \"<h1>Company Name: ABC Corporation, Location: India ,Contact Detail: 999-999-9999</h1>\"\n",
    "\n",
    "\n",
    "\n",
    "\n",
    "if __name__==\"__main__\":\n",
    "    app.run(host=\"0.0.0.0\")\n",
    "\n",
    "    \n",
    "o/p: (copy the route of your URL and pae in new window wit port of 5000/welcome)\n",
    "    for /welcome route- Welcome to ABC Corporation\n",
    "    (copy the route of your URL and pae in new window wit port of 5000)\n",
    "     for / - Company Name: ABC Corporation, Location: India ,Contact Detail: 999-999-9999"
   ]
  },
  {
   "cell_type": "code",
   "execution_count": null,
   "id": "7378d932-e407-4969-a6ed-9d13e7ea502f",
   "metadata": {},
   "outputs": [],
   "source": [
    "from flask import Flask, render_template, url_for\n",
    "\n",
    "app = Flask(__name__)\n",
    "\n",
    "@app.route('/welcomes')\n",
    "def welcome():\n",
    "    return 'Welcome to ABC Corporation'\n",
    "\n",
    "@app.route('/')\n",
    "def company_details():\n",
    "    company_info = {\n",
    "        'Company Name': 'ABC Corporation',\n",
    "        'Location': 'India',\n",
    "        'Contact Detail': '999-999-9999'\n",
    "    }\n",
    "    \n",
    "    welcome_url = url_for('welcome')\n",
    "    return render_template('company_details_with_url.html', company_info=company_info, welcome_url=welcome_url)\n",
    "\n",
    "if __name__ == '__main__':\n",
    "    app.run(debug=True)\n",
    "\n",
    "    \n"
   ]
  }
 ],
 "metadata": {
  "kernelspec": {
   "display_name": "Python 3 (ipykernel)",
   "language": "python",
   "name": "python3"
  },
  "language_info": {
   "codemirror_mode": {
    "name": "ipython",
    "version": 3
   },
   "file_extension": ".py",
   "mimetype": "text/x-python",
   "name": "python",
   "nbconvert_exporter": "python",
   "pygments_lexer": "ipython3",
   "version": "3.10.8"
  }
 },
 "nbformat": 4,
 "nbformat_minor": 5
}
