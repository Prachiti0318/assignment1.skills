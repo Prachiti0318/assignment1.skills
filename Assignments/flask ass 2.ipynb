Q1. Explain GET and POST methods.
A-
GET Method:

The GET method is used to request data from a specified resource.
Data is visible in the URL, making it easy to bookmark, share, and cache. However, it also has limitations on the amount of data that can be sent.
EG:

<form action="/search" method="GET">
    <input type="text" name="query" placeholder="Search...">
    <input type="submit" value="Search">
</form>

POST Method:

The POST method is used to submit data to be processed to a specified resource.
Data is not visible in the URL, providing a level of security, especially when dealing with sensitive information.
EG:
<form action="/submit" method="POST">
    <input type="text" name="username" placeholder="Username">
    <input type="password" name="password" placeholder="Password">
    <input type="submit" value="Login">
</form>
--------------------------------------------------------------------------------------------------------------------------------------------------------
Q2. Why is request used in Flask?
A-
In Flask, the request object is a part of the Flask framework and is used to access incoming request data in a web application.
 It allows you to retrieve information about the current HTTP request, such as form data, query parameters, cookies, and more. 
The request object is an instance of the Request class provided by Flask.

EG:
@app.route ('/postman_data', methods = ['POST'])
def math_function1():
    if (request.method == 'POST'):
        op = request.json['operation']
        num1=int(request.json['num1'])
        num2=int(request.json['num2'])

The request object provides a convenient way to access query parameters from the URL. This is useful when handling GET requests.
@app.route("/",methods =['GET','POST'])
def home_page():
    return render_template('index.html')
-------------------------------------------------------------------------------------------------------------------------------------------------------------
Q3. Why is redirect() used in Flask?
A-
the redirect() function is used to redirect a client's web browser to a different URL. 
It is a useful feature when you want to send the user to another page or route after a certain action or event has occurred, such as form submission or authentication.
from flask import Flask, render_template, redirect, url_for, request.

EG:
app = Flask(__name__)

@app.route('/submit', methods=['POST'])
def submit_form():
    
    return redirect(url_for('thank_you'))

@app.route('/thank_you')
def thank_you():
    return render_template('thank_you.html')
--------------------------------------------------------------------------------------------------------------------------------------------------------
Templates in Flask:

In Flask, templates refer to the HTML files that are used to render dynamic content in web applications. 
Templates allow developers to separate the structure (HTML) from the logic (Python code) in their web application.
Flask uses the Jinja2 templating engine, which allows for dynamic content generation within HTML files. 

#render_template():
The render_template() function is a Flask function used to render HTML templates and return the result as a response to the client's web browser.
 It takes the name of the template file as its first argument and any additional keyword arguments representing variables to be passed to the template.

eG:
from flask import Flask,render_template,request,jsonify

app = Flask(__name__)

@app.route("/",methods =['GET','POST'])
def home_page():
    return render_template('index.html')
------------------------------------------------
Q5. Create a simple API. Use Postman to test it. Attach the screenshot of the output in the Jupyter Notebook.
A-

from flask import Flask,render_template,request,jsonify

app = Flask(__name__)

@app.route("/",methods =['GET','POST'])
def home_page():
    return render_template('index.html')

@app.route ('/math', methods = ['POST'])
def math_function1():
    if (request.method == 'POST'):
        op = request.json['operation']
        num1=int(request.json['num1'])
        num2=int(request.json['num2'])
    if (op == 'add'):
        r= num1+num2
        result = 'the sum of     ' +str(num1) +    'and     '     +str(num2)   +    'is   '     +str(r) 

    return render_template('results.html', result = result )



if __name__=="__main__":
    app.run(host="0.0.0.0")


