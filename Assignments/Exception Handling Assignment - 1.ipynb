Q1. What i exception in python?diffrence between exception and syntax error?
-----------------------------------------------------------------------------------------
A-
An "exception" in Python refers to an error or an abnormal event that occurs during the execution of a program.Exceptions are used to catch and deal with runtime errors, making your code more robust.
try:
    f=open('hello.txt', 'r')
    f.write('welcome o my world')
except Exception as e:
    print('okay so bye',e)
else:
    f.close()
    print('good work ok bye')

Syntax Error:
A syntax error, also known as a parsing error, occurs during the parsing phase of code execution, which happens before the program is actually run.
This typically includes issues like missing colons at the end of statements, incorrect indentation, misspelled keywords, or using invalid characters in variable names.

Exception:
An exception, on the other hand, is a runtime error that occurs during the execution of a program. 
Exceptions are typically caused by unexpected situations or conditions that occur while the program is running, such as division by zero, attempting to access a non-existent file, or trying to access an element of a list that doesn't exist.
-----------------------------------------------------------------------------------------
Q2. What happens when an exception is not handled? Explain with an example.
------------------------------------------------------------------------------------------
A-
When an exception is not handled, it will propagate up the call stack, searching for an appropriate exception handler. If it reaches the top level of your program without being caught, the program will terminate, and an error message will be displayed. This can result in a program crash.
 
Code:
def divide(x, y):
    result = x / y

try:
    divide(10, 0)  # This will raise a ZeroDivisionError
except ValueError as e:
    print(f"Error: {e}")

print("Program continues...")  # This line will not be executed if the exception is not handled

O/p:Traceback (most recent call last):
  File "example.py", line 7, in <module>
    divide(10, 0)  # This will raise a ZeroDivisionError
  File "example.py", line 2, in divide
    result = x / y
ZeroDivisionError: division by zero
--------------------------------------------------------
Q4. Explain with an example:
a. try and else
b. finally
c. raise
--------------------------------------------------------
A-
1) try and else-
The try block is used to enclose code that may raise an exception.
The else block is executed if no exception is raised in the try block. It's used for code that should run only when no exceptions occur.

Code:
try:
    f=open('hello.txt', 'r')
    f.write('welcome o my world')
except Exception as e:
    print('okay so bye',e)
else:
    f.close()
    print('good work ok bye')

o/p:  okay so bye [Errno 2] No such file or directory: 'hello.txt'

2) finally-
The finally block is used for code that must be executed regardless of whether an exception is raised or not. It's often used for cleanup operations.

Code:
try:
    f=open('hello.txt', 'r')
    f.write('welcome o my world')
finally:
    print('okay cool ten bye')

o/p:  okay cool ten bye

3) raise-
The raise statement is used to raise an exception explicitly in your code.

Code:
def divide(x, y):
    if y == 0:
        raise ValueError("Division by zero is not allowed")
    return x / y

try:
    result = divide(10, 0)
except ValueError as e:
    print(f"Error: {e}")

o/p:   Error: Division by zero is not allowed
-------------------------------------------------------------------------------------------------------------------
Q5. What are Custom Exceptions in python? Why do we need Custom Exceptions? Explain with an example.
--------------------------------------------------------------------------------------------------------------------
A-
Custom exceptions in Python, also known as user-defined exceptions, allow you to create your own exception classes to handle specific error situations in your code. 
They provide a way to raise and catch exceptions that are tailored to your application's needs. 
This can make your code more readable and maintainable by clearly indicating the nature of the error.

Wy need?
While writing a program for a banking application. 
You want to handle a situation where a user tries to withdraw more money from their account than they have. 
Instead of using a generic exception like ValueError or RuntimeError, you can create a custom exception, let's call it InsufficientFundsError, to make it clear what went wrong.

Code:
class InsufficientFundsError(Exception):
    def __init__(self, amount, balance):
        self.amount = amount
        self.balance = balance
        self.message = f"Insufficient funds. You tried to withdraw {amount}, but your balance is {balance}."

def withdraw(balance, amount):
    if amount > balance:
        raise InsufficientFundsError(amount, balance)
    else:
        balance -= amount
        return balance

balance = 100
withdraw_amount = 150

try:
    new_balance = withdraw(balance, withdraw_amount)
    print(f"Withdraw successful. New balance: {new_balance}")
except InsufficientFundsError as e:
    print(e)

o/p:  (150, 100)
----------------------------------------------------------------------------------------
Q6. Create a custom exception class. use this class to handle an exception.
----------------------------------------------------------------------------------------
A-
Code:
class InvalidAgeError(Exception):
    def __init__(self, age):
        self.age = age
        self.message = f"Invalid age: {age}. Age must be between 18 and 100."

def get_user_age():
    age = int(input("Enter your age: "))
    if age < 18 or age > 100:
        raise InvalidAgeError(age)
    return age

try:
    user_age = get_user_age()
    print(f"You entered a valid age: {user_age}")
except InvalidAgeError as e:
    print(e)

o/p:   Enter your age:  25
You entered a valid age: 25
​
​





